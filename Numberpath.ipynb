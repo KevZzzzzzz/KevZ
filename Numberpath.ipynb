{
 "cells": [
  {
   "cell_type": "code",
   "execution_count": 1,
   "id": "d91bafc4-2c3a-4b0a-bd45-072b0b606509",
   "metadata": {},
   "outputs": [
    {
     "name": "stdout",
     "output_type": "stream",
     "text": [
      "[1, 1, 1, 1, 2, 1]\n",
      "[1, 1, 1, 2, 1, 1]\n",
      "[1, 1, 2, 1, 1, 1]\n",
      "[1, 1, 2, 2, 1, 1]\n",
      "[1, 2, 1, 1, 1, 1]\n",
      "[1, 2, 1, 2, 1, 1]\n",
      "[1, 2, 2, 1, 1, 1]\n",
      "All possible combinations: 32\n",
      "Valid combinations: 7\n",
      "Equivalent combinations(the redundant steps): [13]\n",
      "Probability of reaching 6 before 5 steps(considering the redundant steps) is 0.3684210526315789\n"
     ]
    }
   ],
   "source": [
    "import numpy as np\n",
    "import math\n",
    "\n",
    "n = 6 #dont make it 25\n",
    "count = [0]\n",
    "validcomb = []\n",
    "equivcount = [0]\n",
    "\n",
    "def equiv(combin1, combin2, length):\n",
    "    return combin1[:length] == combin2[:length]\n",
    "\n",
    "def valid(combination, n, validresult):\n",
    "    k = math.floor(n)\n",
    "    for i in range(1, k):\n",
    "        if sum(combination[:i]) == n:\n",
    "            for result in validcomb:\n",
    "                if equiv(combination, result, i):\n",
    "                    equivcount[0] += 1\n",
    "                    return False\n",
    "            return True\n",
    "    return False\n",
    "\n",
    "def numberpath(n, comb1):\n",
    "    global count, validcomb \n",
    "    if len(comb1) == n:\n",
    "        if valid(comb1, n, validcomb):\n",
    "            print(comb1)\n",
    "            count[0] += 1\n",
    "            validcomb.append(list(comb1))\n",
    "        return\n",
    "    \n",
    "    for block in [1, 2]:\n",
    "        numberpath(n, comb1 + [block])\n",
    "\n",
    "\n",
    "numberpath(n,[1])\n",
    "print('All possible combinations:',2**(n-1))\n",
    "print('Valid combinations:',count[0])\n",
    "print('Equivalent combinations(the redundant steps):',equivcount)\n",
    "\n",
    "p = count[0] / (2**(n-1) - int(equivcount[0]))\n",
    "\n",
    "print(f'Probability of reaching {n} before {n-1} steps(considering the redundant steps) is {p}')"
   ]
  },
  {
   "cell_type": "code",
   "execution_count": 2,
   "id": "33dcae24-1557-439d-99c6-91c02876c4f0",
   "metadata": {},
   "outputs": [
    {
     "name": "stdout",
     "output_type": "stream",
     "text": [
      "For n=3, the probability of considering redundant steps is 0.3333333333333333 and the not considering redundant steps is 0.5\n",
      "For n=4, the probability of considering redundant steps is 0.3333333333333333 and the not considering redundant steps is 0.5\n",
      "For n=5, the probability of considering redundant steps is 0.4 and the not considering redundant steps is 0.625\n",
      "For n=6, the probability of considering redundant steps is 0.3684210526315789 and the not considering redundant steps is 0.625\n",
      "For n=7, the probability of considering redundant steps is 0.35294117647058826 and the not considering redundant steps is 0.65625\n",
      "For n=8, the probability of considering redundant steps is 0.3125 and the not considering redundant steps is 0.65625\n",
      "For n=9, the probability of considering redundant steps is 0.2773109243697479 and the not considering redundant steps is 0.6640625\n",
      "For n=10, the probability of considering redundant steps is 0.23893805309734514 and the not considering redundant steps is 0.6640625\n",
      "For n=11, the probability of considering redundant steps is 0.20465116279069767 and the not considering redundant steps is 0.666015625\n",
      "For n=12, the probability of considering redundant steps is 0.17291414752116083 and the not considering redundant steps is 0.666015625\n",
      "For n=13, the probability of considering redundant steps is 0.14518147684605756 and the not considering redundant steps is 0.66650390625\n",
      "For n=14, the probability of considering redundant steps is 0.12097812097812098 and the not considering redundant steps is 0.66650390625\n",
      "For n=15, the probability of considering redundant steps is 0.1003129632679954 and the not considering redundant steps is 0.6666259765625\n",
      "For n=16, the probability of considering redundant steps is 0.08278757346767422 and the not considering redundant steps is 0.6666259765625\n",
      "For n=17, the probability of considering redundant steps is 0.06808292807780907 and the not considering redundant steps is 0.666656494140625\n",
      "For n=18, the probability of considering redundant steps is 0.055818476499189626 and the not considering redundant steps is 0.666656494140625\n",
      "For n=19, the probability of considering redundant steps is 0.04565212642799415 and the not considering redundant steps is 0.6666641235351562\n",
      "For n=20, the probability of considering redundant steps is 0.0372614693050108 and the not considering redundant steps is 0.6666641235351562\n",
      "For n=21, the probability of considering redundant steps is 0.030363052783719077 and the not considering redundant steps is 0.6666660308837891\n",
      "For n=22, the probability of considering redundant steps is 0.0247083411229948 and the not considering redundant steps is 0.6666660308837891\n",
      "For n=23, the probability of considering redundant steps is 0.02008469551248355 and the not considering redundant steps is 0.6666665077209473\n",
      "For n=24, the probability of considering redundant steps is 0.01631164182002842 and the not considering redundant steps is 0.6666665077209473\n",
      "For n=25, the probability of considering redundant steps is 0.013237746209481193 and the not considering redundant steps is 0.6666666269302368\n",
      "For n=26, the probability of considering redundant steps is 0.010736760100914507 and the not considering redundant steps is 0.6666666269302368\n",
      "For n=27, the probability of considering redundant steps is 0.008704097338482842 and the not considering redundant steps is 0.6666666567325592\n"
     ]
    }
   ],
   "source": [
    "def comb(n,k):\n",
    "    return math.comb(n,k)\n",
    "\n",
    "def p_red(n):\n",
    "    k = math.floor((n-1)/2)\n",
    "    a = sum(comb(n-i-1, n-2*i-1) for i in range(1,k+1))\n",
    "    redundant = sum(comb(n-i-1, n-2*i-1)* (2**i-1) for i in range(1,k+1))\n",
    "    b = 2**(n-1)-redundant\n",
    "    \n",
    "    return a/b\n",
    "\n",
    "def p(n):\n",
    "    k = math.floor((n-1)/2)\n",
    "    a = sum(comb(n-i-1, n-2*i-1) for i in range(1,k+1))\n",
    "    redundant = sum(comb(n-i-1, n-2*i-1)* (2**i-1) for i in range(1,k+1))\n",
    "    c = a+redundant\n",
    "    b = 2**(n-1)\n",
    "    \n",
    "    return c/b\n",
    "\n",
    "for n in range(3,28):\n",
    "    p1 = p_red(n)\n",
    "    p2 = p(n)\n",
    "    print(f'For n={n}, the probability of considering redundant steps is {p1} and the not considering redundant steps is {p2}')"
   ]
  },
  {
   "cell_type": "code",
   "execution_count": 3,
   "id": "6ad1c801-3f46-4731-a461-9bfcd41df93c",
   "metadata": {},
   "outputs": [
    {
     "data": {
      "image/png": "[encoded data removed]",
      "text/plain": [
       "<Figure size 432x288 with 1 Axes>"
      ]
     },
     "metadata": {
      "needs_background": "light"
     },
     "output_type": "display_data"
    }
   ],
   "source": [
    "import matplotlib.pyplot as plt\n",
    "\n",
    "def comb(n,k):\n",
    "    return math.comb(n,k)\n",
    "\n",
    "def p_red(n):\n",
    "    k = math.floor((n-1)/2)\n",
    "    a = sum(comb(n-i-1, n-2*i-1) for i in range(1,k+1))\n",
    "    redundant = sum(comb(n-i-1, n-2*i-1)* (2**i-1) for i in range(1,k+1))\n",
    "    b = 2**(n-1)-redundant\n",
    "    \n",
    "    return a/b\n",
    "\n",
    "def p(n):\n",
    "    k = math.floor((n-1)/2)\n",
    "    a = sum(comb(n-i-1, n-2*i-1) for i in range(1,k+1))\n",
    "    redundant = sum(comb(n-i-1, n-2*i-1)* (2**i-1) for i in range(1,k+1))\n",
    "    c = a+redundant\n",
    "    b = 2**(n-1)\n",
    "    \n",
    "    return c/b\n",
    "\n",
    "for n in range(3,50):\n",
    "    p1 = p_red(n)\n",
    "    p2 = p(n)\n",
    "\n",
    "x = list(range(3,50))\n",
    "p_red = [p_red(n) for n in x]\n",
    "p_nored = [p(n) for n in x]\n",
    "\n",
    "plt.plot(x, p_red, label='Probability with redundant steps')\n",
    "plt.plot(x, p_nored, label='Probability without redundant steps')\n",
    "plt.xlabel('n')\n",
    "plt.ylabel('Probability')\n",
    "plt.title('Probability')\n",
    "plt.legend()\n",
    "plt.show()"
   ]
  },
  {
   "cell_type": "code",
   "execution_count": null,
   "id": "feed057d-43db-4e13-b5b7-7328d40d3cba",
   "metadata": {},
   "outputs": [],
   "source": []
  },
  {
   "cell_type": "code",
   "execution_count": 4,
   "id": "bdd73c74-e6ec-482d-9a2a-c1585cabcc16",
   "metadata": {},
   "outputs": [
    {
     "data": {
      "image/png": "[encoded data removed]",
      "text/plain": [
       "<Figure size 432x288 with 1 Axes>"
      ]
     },
     "metadata": {
      "needs_background": "light"
     },
     "output_type": "display_data"
    }
   ],
   "source": [
    "def equiv(combin1, combin2, length):\n",
    "    return combin1[:length] == combin2[:length]\n",
    "\n",
    "def valid(combination, n, validresult):\n",
    "    k = math.floor(n)\n",
    "    for i in range(1, k):\n",
    "        if sum(combination[:i]) == n:\n",
    "            for result in validcomb:\n",
    "                if equiv(combination, result, i):\n",
    "                    equivcount[0] += 1\n",
    "                    return False\n",
    "            return True\n",
    "    return False\n",
    "\n",
    "def numberpath(n, comb1):\n",
    "    global count, validcomb \n",
    "    if len(comb1) == n:\n",
    "        if valid(comb1, n, validcomb):\n",
    "            count[0] += 1\n",
    "            validcomb.append(list(comb1))\n",
    "        return\n",
    "    \n",
    "    for block in [1, 4]:\n",
    "        numberpath(n, comb1 + [block])\n",
    "        \n",
    "\n",
    "prob = []\n",
    "prob1 = []\n",
    "for n in range(6,19):\n",
    "    count = [0]\n",
    "    validcomb = []\n",
    "    equivcount = [0]\n",
    "    \n",
    "    numberpath(n,[1])\n",
    "\n",
    "    p = count[0] / (2**(n-1) - int(equivcount[0]))\n",
    "    prob.append(p)\n",
    "    \n",
    "    p1 = (count[0]+int(equivcount[0])) / 2**(n-1)\n",
    "    prob1.append(p1)\n",
    "    \n",
    "    \n",
    "x = list(range(6,19))\n",
    "plt.plot(x, prob, label='Probability with redundant steps')\n",
    "plt.plot(x,prob1, label='Probability without redundant steps')\n",
    "plt.xlabel('n')\n",
    "plt.ylabel('Probability')\n",
    "plt.title('Probability')\n",
    "plt.legend()\n",
    "plt.show()"
   ]
  },
  {
   "cell_type": "code",
   "execution_count": null,
   "id": "7f84eccc-773b-4576-81fc-292130857e28",
   "metadata": {},
   "outputs": [],
   "source": []
  },
  {
   "cell_type": "code",
   "execution_count": null,
   "id": "bb9b1a0e-f9e9-4564-9697-b8c0defae9ce",
   "metadata": {},
   "outputs": [],
   "source": []
  }
 ],
 "metadata": {
  "kernelspec": {
   "display_name": "Python 3 (ipykernel)",
   "language": "python",
   "name": "python3"
  },
  "language_info": {
   "codemirror_mode": {
    "name": "ipython",
    "version": 3
   },
   "file_extension": ".py",
   "mimetype": "text/x-python",
   "name": "python",
   "nbconvert_exporter": "python",
   "pygments_lexer": "ipython3",
   "version": "3.9.7"
  }
 },
 "nbformat": 4,
 "nbformat_minor": 5
}
