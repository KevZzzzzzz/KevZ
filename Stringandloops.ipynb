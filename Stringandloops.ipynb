{
 "cells": [
  {
   "cell_type": "code",
   "execution_count": 26,
   "id": "cf9a2738-1976-4188-bbc3-9b3611c6392b",
   "metadata": {},
   "outputs": [
    {
     "name": "stdin",
     "output_type": "stream",
     "text": [
      "Number of strings: 3\n"
     ]
    },
    {
     "name": "stdout",
     "output_type": "stream",
     "text": [
      "P_3(m=1)=0.53336\n",
      "P_3(m=2)=0.39998\n",
      "P_3(m=3)=0.06666\n"
     ]
    }
   ],
   "source": [
    "N=int(input('Number of strings:'))\n",
    "\n",
    "def p(N,k):\n",
    "    if N ==1:\n",
    "        if k==1:\n",
    "            return 1\n",
    "        else:\n",
    "            return 0\n",
    "        if k>N:\n",
    "            return 0\n",
    "        if k ==0:\n",
    "            return 0\n",
    "    else:\n",
    "        return round((1/(2*N-1))*p(N-1,k-1)+((2*N-2)/(2*N-1)*p(N-1,k)), 2*N)\n",
    "    \n",
    "result=[]\n",
    "\n",
    "for k in range(1,N+1):\n",
    "    result.append(p(N,k))\n",
    "    \n",
    "for k,p in enumerate(result,1):\n",
    "    print(f'P_{N}(m={k})={p}')"
   ]
  },
  {
   "cell_type": "code",
   "execution_count": 28,
   "id": "033f29dd-ec8e-4545-9cdc-e7f48e5fdeaf",
   "metadata": {},
   "outputs": [
    {
     "name": "stdin",
     "output_type": "stream",
     "text": [
      "Number of strings: 5\n"
     ]
    },
    {
     "name": "stdout",
     "output_type": "stream",
     "text": [
      "1 final loops from 5 strings:737280\n",
      "2 final loops from 5 strings:768000\n",
      "3 final loops from 5 strings:268800\n",
      "4 final loops from 5 strings:38400\n",
      "5 final loops from 5 strings:1920\n"
     ]
    }
   ],
   "source": [
    "N=int(input('Number of strings:'))\n",
    "\n",
    "def abs(N,k):\n",
    "    if N ==1:\n",
    "        if k==1:\n",
    "            return 1\n",
    "        else:\n",
    "            return 0\n",
    "        if k>N:\n",
    "            return 0\n",
    "        if k ==0:\n",
    "            return 0\n",
    "    else:\n",
    "        return 2*N*(abs(N-1,k-1))+2*N*(2*N-2)*(abs(N-1,k))\n",
    "    \n",
    "result=[]\n",
    "\n",
    "for k in range(1,N+1):\n",
    "    result.append(abs(N,k))\n",
    "    \n",
    "for k,p in enumerate(result,1):\n",
    "    print(f'{k} final loops from {N} strings:{p}')"
   ]
  },
  {
   "cell_type": "code",
   "execution_count": 29,
   "id": "7bf2fb83-55e1-42a5-9729-25c9742d3fbb",
   "metadata": {},
   "outputs": [
    {
     "name": "stdout",
     "output_type": "stream",
     "text": [
      "1 final loops from 10 strings:345196185255936000\n",
      "2 final loops from 10 strings:488274524739993600\n",
      "3 final loops from 10 strings:278888039055360000\n",
      "4 final loops from 10 strings:86051716595712000\n",
      "5 final loops from 10 strings:16012518359040000\n",
      "6 final loops from 10 strings:1880924671180800\n",
      "7 final loops from 10 strings:140460687360000\n",
      "8 final loops from 10 strings:6465650688000\n",
      "9 final loops from 10 strings:167215104000\n",
      "10 final loops from 10 strings:1857945600\n"
     ]
    },
    {
     "data": {
      "image/png": "[encoded data removed]",
      "text/plain": [
       "<Figure size 432x288 with 1 Axes>"
      ]
     },
     "metadata": {
      "needs_background": "light"
     },
     "output_type": "display_data"
    },
    {
     "data": {
      "image/png": "[encoded data removed]",
      "text/plain": [
       "<Figure size 432x288 with 1 Axes>"
      ]
     },
     "metadata": {
      "needs_background": "light"
     },
     "output_type": "display_data"
    }
   ],
   "source": [
    "import matplotlib.pyplot as plt\n",
    "\n",
    "N=10\n",
    "\n",
    "def abs(N,k):\n",
    "    if N ==1:\n",
    "        if k==1:\n",
    "            return 1\n",
    "        else:\n",
    "            return 0\n",
    "        if k>N:\n",
    "            return 0\n",
    "        if k ==0:\n",
    "            return 0\n",
    "    else:\n",
    "        return 2*N*(abs(N-1,k-1))+2*N*(2*N-2)*(abs(N-1,k))\n",
    "    \n",
    "result=[]\n",
    "\n",
    "for k in range(1,N+1):\n",
    "    result.append(abs(N,k))\n",
    "    \n",
    "for k,p in enumerate(result,1):\n",
    "    print(f'{k} final loops from {N} strings:{p}')\n",
    "    \n",
    "def p(N,k):\n",
    "    if N ==1:\n",
    "        if k==1:\n",
    "            return 1\n",
    "        else:\n",
    "            return 0\n",
    "        if k>N:\n",
    "            return 0\n",
    "        if k ==0:\n",
    "            return 0\n",
    "    else:\n",
    "        return round((1/(2*N-1))*p(N-1,k-1)+((2*N-2)/(2*N-1)*p(N-1,k)), 2*N)\n",
    "    \n",
    "prob=[]\n",
    "\n",
    "for k in range(1,N+1):\n",
    "    prob.append(p(N,k))\n",
    "\n",
    "plt.bar(range(1,N+1), result)\n",
    "plt.xlabel('k')\n",
    "plt.ylabel(f'|{N}->k|')\n",
    "plt.title('Histogram')\n",
    "plt.show()\n",
    "\n",
    "plt.bar(range(1,N+1), prob)\n",
    "plt.xlabel('k')\n",
    "plt.ylabel(f'P_{N}(m=k)')\n",
    "plt.title('Histogram')\n",
    "plt.show()"
   ]
  },
  {
   "cell_type": "code",
   "execution_count": 35,
   "id": "13066319-be61-41d6-afda-f35ad665db5d",
   "metadata": {},
   "outputs": [
    {
     "data": {
      "image/png": "[encoded data removed]",
      "text/plain": [
       "<Figure size 432x288 with 1 Axes>"
      ]
     },
     "metadata": {
      "needs_background": "light"
     },
     "output_type": "display_data"
    }
   ],
   "source": [
    "from scipy.stats import halfnorm\n",
    "import seaborn as sns\n",
    "import matplotlib.pyplot as plt\n",
    "import numpy as np\n",
    "\n",
    "N=20\n",
    "\n",
    "def p(N,k):\n",
    "    if N ==1:\n",
    "        if k==1:\n",
    "            return 1\n",
    "        else:\n",
    "            return 0\n",
    "        if k>N:\n",
    "            return 0\n",
    "        if k ==0:\n",
    "            return 0\n",
    "    else:\n",
    "        return round((1/(2*N-1))*p(N-1,k-1)+((2*N-2)/(2*N-1)*p(N-1,k)), 2*N)\n",
    "    \n",
    "prob=[]\n",
    "\n",
    "for k in range(1,N+1):\n",
    "    prob.append(p(N,k))\n",
    "\n",
    "sns.histplot(prob,stat=\"density\")\n",
    "sigma = np.std(prob)\n",
    "\n",
    "x = np.linspace(0,N,100)\n",
    "pdf = halfnorm.pdf(x,scale=sigma)\n",
    "\n",
    "plt.plot(x,pdf,'r')\n",
    "plt.title('Half-normal')\n",
    "plt.show()"
   ]
  },
  {
   "cell_type": "code",
   "execution_count": 36,
   "id": "90ed525e-88c7-4067-8dd2-055f748b9b40",
   "metadata": {},
   "outputs": [
    {
     "data": {
      "image/png": "[encoded data removed]",
      "text/plain": [
       "<Figure size 432x288 with 1 Axes>"
      ]
     },
     "metadata": {
      "needs_background": "light"
     },
     "output_type": "display_data"
    }
   ],
   "source": [
    "from scipy.stats import expon\n",
    "import matplotlib.pyplot as plt\n",
    "\n",
    "N=20\n",
    "\n",
    "def p(N,k):\n",
    "    if N ==1:\n",
    "        if k==1:\n",
    "            return 1\n",
    "        else:\n",
    "            return 0\n",
    "        if k>N:\n",
    "            return 0\n",
    "        if k ==0:\n",
    "            return \n",
    "    else:\n",
    "        return round((1/(2*N-1))*p(N-1,k-1)+((2*N-2)/(2*N-1)*p(N-1,k)), 2*N)\n",
    "    \n",
    "prob=[]\n",
    "\n",
    "for k in range(1,N+1):\n",
    "    prob.append(p(N,k))\n",
    "\n",
    "\n",
    "sns.histplot(prob,stat=\"density\")\n",
    "sigma = np.std(prob)\n",
    "\n",
    "x = np.linspace(0,N,100)\n",
    "pdf = expon.pdf(x,scale=sigma)\n",
    "\n",
    "plt.plot(x,pdf,'r')\n",
    "plt.title('Exponential')\n",
    "plt.show()"
   ]
  },
  {
   "cell_type": "code",
   "execution_count": 37,
   "id": "8b57ea7d-ed92-434b-a83f-9d742ba1ae5d",
   "metadata": {},
   "outputs": [
    {
     "name": "stdin",
     "output_type": "stream",
     "text": [
      "Number of strings: 5\n",
      "Step: 4\n",
      "Number of loops: 3\n"
     ]
    },
    {
     "name": "stdout",
     "output_type": "stream",
     "text": [
      "Number of getting 3 loops from 5 strings before step 5: 38400\n",
      "Probability is 0.021164021164021163\n"
     ]
    }
   ],
   "source": [
    "import math\n",
    "\n",
    "def abs(N,s,k):\n",
    "    if N==1:\n",
    "        if s==0:\n",
    "            if k==1:\n",
    "                return 0\n",
    "            if k==0:\n",
    "                return 1\n",
    "        return 0\n",
    "    elif s==0 and k==0:\n",
    "        return 1\n",
    "    elif N <=0 or s<=0 or k<0:\n",
    "        return 0\n",
    "    else:\n",
    "        return 2*N*abs(N-1,s-1,k-1)+2*N*(2*N-2)*abs(N-1,s-1,k)\n",
    "    return 0\n",
    "\n",
    "def prob(N, s, k):\n",
    "    num = abs(N,s,k)\n",
    "    den = math.comb(2*N,2*s)*math.factorial(2*s)\n",
    "    return num/den\n",
    "\n",
    "N = int(input('Number of strings:'))\n",
    "s = int(input('Step:'))\n",
    "k = int(input('Number of loops:'))\n",
    "\n",
    "if k<0 or k>s:\n",
    "    print('Invalid k')\n",
    "else:\n",
    "    print(f'Number of getting {k} loops from {N} strings before step {s+1}:',abs(N,s,k))\n",
    "    print(f'Probability is',prob(N,s,k))"
   ]
  },
  {
   "cell_type": "code",
   "execution_count": 41,
   "id": "80d84d07-4b83-4113-837a-6882caa1cd46",
   "metadata": {},
   "outputs": [
    {
     "name": "stdin",
     "output_type": "stream",
     "text": [
      "Number of strings: 5\n"
     ]
    },
    {
     "data": {
      "image/png": "[encoded data removed]",
      "text/plain": [
       "<Figure size 720x432 with 1 Axes>"
      ]
     },
     "metadata": {
      "needs_background": "light"
     },
     "output_type": "display_data"
    }
   ],
   "source": [
    "import math\n",
    "\n",
    "def abs(N,s,k):\n",
    "    if N==1:\n",
    "        if s==0:\n",
    "            if k==1:\n",
    "                return 0\n",
    "            if k==0:\n",
    "                return 1\n",
    "        return 0\n",
    "    elif s==0 and k==0:\n",
    "        return 1\n",
    "    elif N <=0 or s<=0 or k<0:\n",
    "        return 0\n",
    "    else:\n",
    "        return 2*N*abs(N-1,s-1,k-1)+2*N*(2*N-2)*abs(N-1,s-1,k)\n",
    "    return 0\n",
    "\n",
    "x=[]\n",
    "y=[]\n",
    "\n",
    "\n",
    "N = int(input('Number of strings:'))\n",
    "for s in range(1, N):\n",
    "    for k in range(0, s):\n",
    "        x.append(s)\n",
    "        y.append(abs(N, s, k))\n",
    "\n",
    "plt.figure(figsize=(10, 6))\n",
    "plt.scatter(x, y)\n",
    "plt.xlabel('Step')\n",
    "plt.ylabel('Number of ways')\n",
    "plt.title(f'Number of ways of getting k loops before step s (N={N})')\n",
    "plt.grid(True)\n",
    "plt.show()\n",
    "\n"
   ]
  },
  {
   "cell_type": "code",
   "execution_count": 44,
   "id": "53c27911-46f6-468d-b100-3272804667b4",
   "metadata": {},
   "outputs": [
    {
     "name": "stdin",
     "output_type": "stream",
     "text": [
      "Number of strings: 5\n"
     ]
    },
    {
     "data": {
      "image/png": "[encoded data removed]",
      "text/plain": [
       "<Figure size 720x432 with 1 Axes>"
      ]
     },
     "metadata": {
      "needs_background": "light"
     },
     "output_type": "display_data"
    }
   ],
   "source": [
    "import math\n",
    "\n",
    "def abs(N,s,k):\n",
    "    if N==1:\n",
    "        if s==0:\n",
    "            if k==1:\n",
    "                return 0\n",
    "            if k==0:\n",
    "                return 1\n",
    "        return 0\n",
    "    elif s==0 and k==0:\n",
    "        return 1\n",
    "    elif N <=0 or s<=0 or k<0:\n",
    "        return 0\n",
    "    else:\n",
    "        return 2*N*abs(N-1,s-1,k-1)+2*N*(2*N-2)*abs(N-1,s-1,k)\n",
    "    return 0\n",
    "\n",
    "x=[]\n",
    "y=[]\n",
    "\n",
    "\n",
    "N = int(input('Number of strings:'))\n",
    "for s in range(1, N):\n",
    "    for k in range(0, s):\n",
    "        x.append(s)\n",
    "        y.append(prob(N, s, k))\n",
    "\n",
    "plt.figure(figsize=(10, 6))\n",
    "plt.scatter(x, y)\n",
    "plt.xlabel('Step')\n",
    "plt.ylabel('Probability')\n",
    "plt.title(f'Probability of getting k loops before step s (N={N})')\n",
    "plt.grid(True)\n",
    "plt.show()\n"
   ]
  },
  {
   "cell_type": "code",
   "execution_count": null,
   "id": "1701f390-5c87-449b-94cf-1521547f83f2",
   "metadata": {},
   "outputs": [],
   "source": []
  }
 ],
 "metadata": {
  "kernelspec": {
   "display_name": "Python 3 (ipykernel)",
   "language": "python",
   "name": "python3"
  },
  "language_info": {
   "codemirror_mode": {
    "name": "ipython",
    "version": 3
   },
   "file_extension": ".py",
   "mimetype": "text/x-python",
   "name": "python",
   "nbconvert_exporter": "python",
   "pygments_lexer": "ipython3",
   "version": "3.9.7"
  }
 },
 "nbformat": 4,
 "nbformat_minor": 5
}
