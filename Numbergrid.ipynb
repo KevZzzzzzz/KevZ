{
 "cells": [
  {
   "cell_type": "code",
   "execution_count": 47,
   "id": "d32e63b1-cdbe-4491-aed1-f0db96c6f3c9",
   "metadata": {},
   "outputs": [
    {
     "name": "stdin",
     "output_type": "stream",
     "text": [
      " 5\n"
     ]
    },
    {
     "name": "stdout",
     "output_type": "stream",
     "text": [
      "101 100  99  98  97  96  95  94  93  92  91\n",
      "102  65  64  63  62  61  60  59  58  57  90\n",
      "103  66  37  36  35  34  33  32  31  56  89\n",
      "104  67  38  17  16  15  14  13  30  55  88\n",
      "105  68  39  18   5   4   3  12  29  54  87\n",
      "106  69  40  19   6   1   2  11  28  53  86\n",
      "107  70  41  20   7   8   9  10  27  52  85\n",
      "108  71  42  21  22  23  24  25  26  51  84\n",
      "109  72  43  44  45  46  47  48  49  50  83\n",
      "110  73  74  75  76  77  78  79  80  81  82\n",
      "111 112 113 114 115 116 117 118 119 120 121\n"
     ]
    }
   ],
   "source": [
    "def right(row, col):\n",
    "    return row,col+1\n",
    "\n",
    "def up(row, col):\n",
    "    return row-1, col\n",
    "\n",
    "def left(row, col):\n",
    "    return row, col-1\n",
    "\n",
    "def down(row, col):\n",
    "    return row+1, col\n",
    "\n",
    "def matrix(n):\n",
    "    array = [[0]*n for _ in range(n)]\n",
    "    N = n*n\n",
    "    direction = [left,up,right,down]\n",
    "    i = 0\n",
    "    row,col = n-1, n-1\n",
    "\n",
    "    for num in range(N,0,-1):\n",
    "        array[row][col] = num\n",
    "        newrow, newcol = direction[i](row, col)\n",
    "        if 0 <= newrow < n and 0 <= newcol< n and array[newrow][newcol] == 0:\n",
    "            row,col = newrow,newcol\n",
    "        else:\n",
    "            i = (i+1)% 4\n",
    "            row,col = direction[i](row, col)\n",
    "\n",
    "    for row in array:\n",
    "        print(\" \".join(f\"{element:3d}\" for element in row))\n",
    "\n",
    "\n",
    "k =int(input())\n",
    "n = 2*k+1\n",
    "matrix(n)\n",
    "    "
   ]
  },
  {
   "cell_type": "code",
   "execution_count": 27,
   "id": "9299a49a-f882-499c-8a59-17164010908b",
   "metadata": {},
   "outputs": [
    {
     "name": "stdin",
     "output_type": "stream",
     "text": [
      " 11\n"
     ]
    },
    {
     "name": "stdout",
     "output_type": "stream",
     "text": [
      "For n = 11, final number is 115\n"
     ]
    }
   ],
   "source": [
    "def elim(n):\n",
    "    N = n*n\n",
    "    step = 2\n",
    "    numb = list(range(1,N+1))\n",
    "    \n",
    "    while len(numb)>1:\n",
    "        numb = numb[0:1]+numb[2:]\n",
    "        numb.append(numb.pop(0))\n",
    "    return numb[0]\n",
    "\n",
    "n=int(input())\n",
    "result = elim(n)\n",
    "print(f'For n = {n}, final number is {result}')"
   ]
  },
  {
   "cell_type": "code",
   "execution_count": 38,
   "id": "0045be77-9517-4a07-a823-2764d38ef747",
   "metadata": {},
   "outputs": [
    {
     "name": "stdout",
     "output_type": "stream",
     "text": [
      "For n = 1, final number is 1 (step is 2)\n",
      "For n = 3, final number is 3 (step is 2)\n",
      "For n = 5, final number is 19 (step is 2)\n",
      "For n = 7, final number is 35 (step is 2)\n",
      "For n = 9, final number is 35 (step is 2)\n",
      "For n = 11, final number is 115 (step is 2)\n",
      "For n = 13, final number is 83 (step is 2)\n",
      "For n = 15, final number is 195 (step is 2)\n"
     ]
    }
   ],
   "source": [
    "def elim(n):\n",
    "    N = n*n\n",
    "    step = 2\n",
    "    numb = list(range(1,N+1))\n",
    "    \n",
    "    while len(numb)>1:\n",
    "        numb = numb[0:1]+numb[2:]\n",
    "        numb.append(numb.pop(0))\n",
    "    return numb[0]\n",
    "\n",
    "for n in range(1,17,2):\n",
    "    result =elim(n)\n",
    "    print(f'For n = {n}, final number is {result} (step is 2)')"
   ]
  },
  {
   "cell_type": "code",
   "execution_count": 51,
   "id": "1853a5a2-658a-4cf3-bef1-83190f997a70",
   "metadata": {},
   "outputs": [
    {
     "name": "stdout",
     "output_type": "stream",
     "text": [
      "For n = 3, final number is 1 (step is 3)\n",
      "For n = 5, final number is 14 (step is 3)\n",
      "For n = 7, final number is 8 (step is 3)\n",
      "For n = 9, final number is 34 (step is 3)\n",
      "For n = 11, final number is 49 (step is 3)\n",
      "For n = 13, final number is 35 (step is 3)\n",
      "For n = 15, final number is 203 (step is 3)\n",
      "For n = 17, final number is 158 (step is 3)\n",
      "For n = 19, final number is 19 (step is 3)\n",
      "For n = 21, final number is 259 (step is 3)\n",
      "For n = 23, final number is 523 (step is 3)\n",
      "For n = 25, final number is 278 (step is 3)\n",
      "For n = 27, final number is 590 (step is 3)\n"
     ]
    }
   ],
   "source": [
    "def elim1(n):\n",
    "    N = n*n\n",
    "    step = 3\n",
    "    numb = list(range(1,N+1))\n",
    "    index = 0\n",
    "    \n",
    "    while len(numb)>1:\n",
    "        index = (index+step-1)% len(numb)\n",
    "        numb.pop(index)\n",
    "    return numb[0]\n",
    "\n",
    "for n in range(3,29,2):\n",
    "    N = n\n",
    "    result =elim1(n)\n",
    "    print(f'For n = {n}, final number is {result} (step is 3)')"
   ]
  },
  {
   "cell_type": "code",
   "execution_count": 63,
   "id": "c16f00b4-55d1-4841-9686-9668b2f11857",
   "metadata": {},
   "outputs": [
    {
     "data": {
      "image/png": "[encoded data removed]",
      "text/plain": [
       "<Figure size 432x288 with 1 Axes>"
      ]
     },
     "metadata": {
      "needs_background": "light"
     },
     "output_type": "display_data"
    }
   ],
   "source": [
    "import matplotlib.pyplot as plt\n",
    "x=[]\n",
    "y=[]\n",
    "\n",
    "for n in range(3,99,2):\n",
    "    result =elim1(n)\n",
    "    x.append(n)\n",
    "    y.append(result)\n",
    "\n",
    "plt.plot(x,y)\n",
    "plt.xlabel('N')\n",
    "plt.ylabel('Final number')\n",
    "plt.title('step 3 final number')\n",
    "plt.grid(True)\n",
    "plt.show()"
   ]
  },
  {
   "cell_type": "code",
   "execution_count": 64,
   "id": "7559fdbe-4d00-4217-b1c1-8018659b5607",
   "metadata": {},
   "outputs": [
    {
     "name": "stdout",
     "output_type": "stream",
     "text": [
      "For n = 3, final number is 1 (step is 3)\n",
      "For n = 5, final number is 15 (step is 3)\n",
      "For n = 7, final number is 43 (step is 3)\n",
      "For n = 9, final number is 50 (step is 3)\n",
      "For n = 3, final number is 1 (step is 4)\n",
      "For n = 5, final number is 15 (step is 4)\n",
      "For n = 7, final number is 43 (step is 4)\n",
      "For n = 9, final number is 50 (step is 4)\n",
      "For n = 3, final number is 1 (step is 5)\n",
      "For n = 5, final number is 15 (step is 5)\n",
      "For n = 7, final number is 43 (step is 5)\n",
      "For n = 9, final number is 50 (step is 5)\n",
      "For n = 3, final number is 1 (step is 6)\n",
      "For n = 5, final number is 15 (step is 6)\n",
      "For n = 7, final number is 43 (step is 6)\n",
      "For n = 9, final number is 50 (step is 6)\n",
      "For n = 3, final number is 1 (step is 7)\n",
      "For n = 5, final number is 15 (step is 7)\n",
      "For n = 7, final number is 43 (step is 7)\n",
      "For n = 9, final number is 50 (step is 7)\n"
     ]
    }
   ],
   "source": [
    "def elim1(n):\n",
    "    N = n*n\n",
    "    for s in range(3,5):\n",
    "        numb = list(range(1,N+1))\n",
    "        index = 0\n",
    "    \n",
    "        while len(numb)>1:\n",
    "            index = (index+s-1)% len(numb)\n",
    "            numb.pop(index)\n",
    "    return numb[0]\n",
    "\n",
    "for s in range(3,8):\n",
    "    for n in range(3,11,2):\n",
    "        N = n\n",
    "        S = s\n",
    "        result =elim1(n)\n",
    "        print(f'For n = {n}, final number is {result} (step is {S})')"
   ]
  },
  {
   "cell_type": "code",
   "execution_count": null,
   "id": "4620eeca-5259-4c37-a033-07217ce0da44",
   "metadata": {},
   "outputs": [],
   "source": []
  }
 ],
 "metadata": {
  "kernelspec": {
   "display_name": "Python 3 (ipykernel)",
   "language": "python",
   "name": "python3"
  },
  "language_info": {
   "codemirror_mode": {
    "name": "ipython",
    "version": 3
   },
   "file_extension": ".py",
   "mimetype": "text/x-python",
   "name": "python",
   "nbconvert_exporter": "python",
   "pygments_lexer": "ipython3",
   "version": "3.9.7"
  }
 },
 "nbformat": 4,
 "nbformat_minor": 5
}
