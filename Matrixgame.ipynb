{
 "cells": [
  {
   "cell_type": "code",
   "execution_count": 1,
   "id": "b6eb387a-f481-43d4-985d-8bbc8878f4d3",
   "metadata": {},
   "outputs": [
    {
     "name": "stdin",
     "output_type": "stream",
     "text": [
      "Matrix NxN: 3\n"
     ]
    },
    {
     "name": "stdout",
     "output_type": "stream",
     "text": [
      "Current status:\n",
      "[['_' '_' '_']\n",
      " ['_' '_' '_']\n",
      " ['_' '_' '_']]\n"
     ]
    },
    {
     "name": "stdin",
     "output_type": "stream",
     "text": [
      "Place in ___ row: 0\n",
      "Place in ___ column: 0\n"
     ]
    },
    {
     "name": "stdout",
     "output_type": "stream",
     "text": [
      "Current status:\n",
      "[['0' '_' '_']\n",
      " ['_' '_' '_']\n",
      " ['_' '_' '_']]\n"
     ]
    },
    {
     "name": "stdin",
     "output_type": "stream",
     "text": [
      "Place in ___ row: 0\n",
      "Place in ___ column: 2\n"
     ]
    },
    {
     "name": "stdout",
     "output_type": "stream",
     "text": [
      "Current status:\n",
      "[['0' '_' '1']\n",
      " ['_' '_' '_']\n",
      " ['_' '_' '_']]\n"
     ]
    },
    {
     "name": "stdin",
     "output_type": "stream",
     "text": [
      "Place in ___ row: 1\n",
      "Place in ___ column: 1\n"
     ]
    },
    {
     "name": "stdout",
     "output_type": "stream",
     "text": [
      "Current status:\n",
      "[['0' '_' '1']\n",
      " ['_' '0' '_']\n",
      " ['_' '_' '_']]\n"
     ]
    },
    {
     "name": "stdin",
     "output_type": "stream",
     "text": [
      "Place in ___ row: 0\n",
      "Place in ___ column: 1\n"
     ]
    },
    {
     "name": "stdout",
     "output_type": "stream",
     "text": [
      "Current status:\n",
      "[['0' '1' '1']\n",
      " ['_' '0' '_']\n",
      " ['_' '_' '_']]\n"
     ]
    },
    {
     "name": "stdin",
     "output_type": "stream",
     "text": [
      "Place in ___ row: 1\n",
      "Place in ___ column: 0\n"
     ]
    },
    {
     "name": "stdout",
     "output_type": "stream",
     "text": [
      "Current status:\n",
      "[['0' '1' '1']\n",
      " ['0' '0' '_']\n",
      " ['_' '_' '_']]\n"
     ]
    },
    {
     "name": "stdin",
     "output_type": "stream",
     "text": [
      "Place in ___ row: 1\n",
      "Place in ___ column: 2\n"
     ]
    },
    {
     "name": "stdout",
     "output_type": "stream",
     "text": [
      "Current status:\n",
      "[['0' '1' '1']\n",
      " ['0' '0' '1']\n",
      " ['_' '_' '_']]\n"
     ]
    },
    {
     "name": "stdin",
     "output_type": "stream",
     "text": [
      "Place in ___ row: 2\n",
      "Place in ___ column: 0\n"
     ]
    },
    {
     "name": "stdout",
     "output_type": "stream",
     "text": [
      "Current status:\n",
      "[['0' '1' '1']\n",
      " ['0' '0' '1']\n",
      " ['0' '_' '_']]\n"
     ]
    },
    {
     "name": "stdin",
     "output_type": "stream",
     "text": [
      "Place in ___ row: 2\n",
      "Place in ___ column: 2\n"
     ]
    },
    {
     "name": "stdout",
     "output_type": "stream",
     "text": [
      "Current status:\n",
      "[['0' '1' '1']\n",
      " ['0' '0' '1']\n",
      " ['0' '_' '1']]\n"
     ]
    },
    {
     "name": "stdin",
     "output_type": "stream",
     "text": [
      "Place in ___ row: 2\n",
      "Place in ___ column: 1\n"
     ]
    },
    {
     "name": "stdout",
     "output_type": "stream",
     "text": [
      "A wins\n",
      "Final matrix\n",
      "[['0' '1' '1']\n",
      " ['0' '0' '1']\n",
      " ['0' '0' '1']]\n"
     ]
    }
   ],
   "source": [
    "import numpy as np\n",
    "\n",
    "#A starts first\n",
    "\n",
    "def matrix1(matrix,x,s,totalstep,n):\n",
    "    while s <= totalstep:\n",
    "        print('Current status:')\n",
    "        print(matrix)\n",
    "        r = int(input('Place in ___ row:')) # r for row, c for column\n",
    "        c = int(input('Place in ___ column:'))\n",
    "        \n",
    "        if 0<=r<n and 0<=c<n and matrix[r,c] == '_':\n",
    "            matrix[r,c] = x\n",
    "            s = s+1\n",
    "            return s, matrix  \n",
    "        else:\n",
    "            print('Invalid input')\n",
    "\n",
    "def game():\n",
    "    n = int(input('Matrix NxN:'))\n",
    "    \n",
    "    s = 0  # s for step\n",
    "    totalstep = n**2\n",
    "    \n",
    "    matrix = np.full((n,n),'_',dtype=str)\n",
    "    \n",
    "    while s < totalstep: #game starts\n",
    "        s, matrix = matrix1(matrix,'0',s,totalstep,n)  # A's turn\n",
    "        if s >= totalstep:\n",
    "            break\n",
    "        s, matrix = matrix1(matrix,'1',s,totalstep,n)  # B's turn\n",
    "        \n",
    "    det1 = np.where(matrix == '_',0,matrix).astype(int) # to int\n",
    "    det = np.linalg.det(det1)\n",
    "    \n",
    "    if det == 0:\n",
    "        print('A wins')\n",
    "        print('Final matrix')\n",
    "        print(matrix)\n",
    "    else:\n",
    "        print('B wins')\n",
    "        print('Final matrix')\n",
    "        print(matrix)\n",
    "\n",
    "game() "
   ]
  },
  {
   "cell_type": "code",
   "execution_count": 2,
   "id": "9d5e6c8a-059d-48a1-af7d-46961621b74a",
   "metadata": {},
   "outputs": [
    {
     "name": "stdin",
     "output_type": "stream",
     "text": [
      "Matrix NxN: 5\n"
     ]
    },
    {
     "name": "stdout",
     "output_type": "stream",
     "text": [
      "Current status:\n",
      "[['_' '_' '_' '_' '_']\n",
      " ['_' '_' '_' '_' '_']\n",
      " ['_' '_' '_' '_' '_']\n",
      " ['_' '_' '_' '_' '_']\n",
      " ['_' '_' '_' '_' '_']]\n"
     ]
    },
    {
     "name": "stdin",
     "output_type": "stream",
     "text": [
      "Place in ___ row: 0\n",
      "Place in ___ column: 0\n"
     ]
    },
    {
     "name": "stdout",
     "output_type": "stream",
     "text": [
      "Current status:\n",
      "[['1' '_' '_' '_' '_']\n",
      " ['_' '_' '_' '_' '_']\n",
      " ['_' '_' '_' '_' '_']\n",
      " ['_' '_' '_' '_' '_']\n",
      " ['_' '_' '_' '_' '_']]\n"
     ]
    },
    {
     "name": "stdin",
     "output_type": "stream",
     "text": [
      "Place in ___ row: 0\n",
      "Place in ___ column: 1\n"
     ]
    },
    {
     "name": "stdout",
     "output_type": "stream",
     "text": [
      "Current status:\n",
      "[['1' '0' '_' '_' '_']\n",
      " ['_' '_' '_' '_' '_']\n",
      " ['_' '_' '_' '_' '_']\n",
      " ['_' '_' '_' '_' '_']\n",
      " ['_' '_' '_' '_' '_']]\n"
     ]
    },
    {
     "name": "stdin",
     "output_type": "stream",
     "text": [
      "Place in ___ row: 1\n",
      "Place in ___ column: 1\n"
     ]
    },
    {
     "name": "stdout",
     "output_type": "stream",
     "text": [
      "Current status:\n",
      "[['1' '0' '_' '_' '_']\n",
      " ['_' '1' '_' '_' '_']\n",
      " ['_' '_' '_' '_' '_']\n",
      " ['_' '_' '_' '_' '_']\n",
      " ['_' '_' '_' '_' '_']]\n"
     ]
    },
    {
     "name": "stdin",
     "output_type": "stream",
     "text": [
      "Place in ___ row: 1\n",
      "Place in ___ column: 0\n"
     ]
    },
    {
     "name": "stdout",
     "output_type": "stream",
     "text": [
      "Current status:\n",
      "[['1' '0' '_' '_' '_']\n",
      " ['0' '1' '_' '_' '_']\n",
      " ['_' '_' '_' '_' '_']\n",
      " ['_' '_' '_' '_' '_']\n",
      " ['_' '_' '_' '_' '_']]\n"
     ]
    },
    {
     "name": "stdin",
     "output_type": "stream",
     "text": [
      "Place in ___ row: 1\n",
      "Place in ___ column: 4\n"
     ]
    },
    {
     "name": "stdout",
     "output_type": "stream",
     "text": [
      "Current status:\n",
      "[['1' '0' '_' '_' '_']\n",
      " ['0' '1' '_' '_' '1']\n",
      " ['_' '_' '_' '_' '_']\n",
      " ['_' '_' '_' '_' '_']\n",
      " ['_' '_' '_' '_' '_']]\n"
     ]
    },
    {
     "name": "stdin",
     "output_type": "stream",
     "text": [
      "Place in ___ row: 0\n",
      "Place in ___ column: 4\n"
     ]
    },
    {
     "name": "stdout",
     "output_type": "stream",
     "text": [
      "Current status:\n",
      "[['1' '0' '_' '_' '0']\n",
      " ['0' '1' '_' '_' '1']\n",
      " ['_' '_' '_' '_' '_']\n",
      " ['_' '_' '_' '_' '_']\n",
      " ['_' '_' '_' '_' '_']]\n"
     ]
    },
    {
     "name": "stdin",
     "output_type": "stream",
     "text": [
      "Place in ___ row: 2\n",
      "Place in ___ column: 3\n"
     ]
    },
    {
     "name": "stdout",
     "output_type": "stream",
     "text": [
      "Current status:\n",
      "[['1' '0' '_' '_' '0']\n",
      " ['0' '1' '_' '_' '1']\n",
      " ['_' '_' '_' '1' '_']\n",
      " ['_' '_' '_' '_' '_']\n",
      " ['_' '_' '_' '_' '_']]\n"
     ]
    },
    {
     "name": "stdin",
     "output_type": "stream",
     "text": [
      "Place in ___ row: 2\n",
      "Place in ___ column: 2\n"
     ]
    },
    {
     "name": "stdout",
     "output_type": "stream",
     "text": [
      "Current status:\n",
      "[['1' '0' '_' '_' '0']\n",
      " ['0' '1' '_' '_' '1']\n",
      " ['_' '_' '0' '1' '_']\n",
      " ['_' '_' '_' '_' '_']\n",
      " ['_' '_' '_' '_' '_']]\n"
     ]
    },
    {
     "name": "stdin",
     "output_type": "stream",
     "text": [
      "Place in ___ row: 0\n",
      "Place in ___ column: 2\n"
     ]
    },
    {
     "name": "stdout",
     "output_type": "stream",
     "text": [
      "Current status:\n",
      "[['1' '0' '1' '_' '0']\n",
      " ['0' '1' '_' '_' '1']\n",
      " ['_' '_' '0' '1' '_']\n",
      " ['_' '_' '_' '_' '_']\n",
      " ['_' '_' '_' '_' '_']]\n"
     ]
    },
    {
     "name": "stdin",
     "output_type": "stream",
     "text": [
      "Place in ___ row: 0\n",
      "Place in ___ column: 3\n"
     ]
    },
    {
     "name": "stdout",
     "output_type": "stream",
     "text": [
      "Current status:\n",
      "[['1' '0' '1' '0' '0']\n",
      " ['0' '1' '_' '_' '1']\n",
      " ['_' '_' '0' '1' '_']\n",
      " ['_' '_' '_' '_' '_']\n",
      " ['_' '_' '_' '_' '_']]\n"
     ]
    },
    {
     "name": "stdin",
     "output_type": "stream",
     "text": [
      "Place in ___ row: 4\n",
      "Place in ___ column: 2\n"
     ]
    },
    {
     "name": "stdout",
     "output_type": "stream",
     "text": [
      "Current status:\n",
      "[['1' '0' '1' '0' '0']\n",
      " ['0' '1' '_' '_' '1']\n",
      " ['_' '_' '0' '1' '_']\n",
      " ['_' '_' '_' '_' '_']\n",
      " ['_' '_' '1' '_' '_']]\n"
     ]
    },
    {
     "name": "stdin",
     "output_type": "stream",
     "text": [
      "Place in ___ row: 4\n",
      "Place in ___ column: 3\n"
     ]
    },
    {
     "name": "stdout",
     "output_type": "stream",
     "text": [
      "Current status:\n",
      "[['1' '0' '1' '0' '0']\n",
      " ['0' '1' '_' '_' '1']\n",
      " ['_' '_' '0' '1' '_']\n",
      " ['_' '_' '_' '_' '_']\n",
      " ['_' '_' '1' '0' '_']]\n"
     ]
    },
    {
     "name": "stdin",
     "output_type": "stream",
     "text": [
      "Place in ___ row: 4\n",
      "Place in ___ column: 4\n"
     ]
    },
    {
     "name": "stdout",
     "output_type": "stream",
     "text": [
      "Current status:\n",
      "[['1' '0' '1' '0' '0']\n",
      " ['0' '1' '_' '_' '1']\n",
      " ['_' '_' '0' '1' '_']\n",
      " ['_' '_' '_' '_' '_']\n",
      " ['_' '_' '1' '0' '1']]\n"
     ]
    },
    {
     "name": "stdin",
     "output_type": "stream",
     "text": [
      "Place in ___ row: 3\n",
      "Place in ___ column: 4\n"
     ]
    },
    {
     "name": "stdout",
     "output_type": "stream",
     "text": [
      "Current status:\n",
      "[['1' '0' '1' '0' '0']\n",
      " ['0' '1' '_' '_' '1']\n",
      " ['_' '_' '0' '1' '_']\n",
      " ['_' '_' '_' '_' '0']\n",
      " ['_' '_' '1' '0' '1']]\n"
     ]
    },
    {
     "name": "stdin",
     "output_type": "stream",
     "text": [
      "Place in ___ row: 3\n",
      "Place in ___ column: 1\n"
     ]
    },
    {
     "name": "stdout",
     "output_type": "stream",
     "text": [
      "Current status:\n",
      "[['1' '0' '1' '0' '0']\n",
      " ['0' '1' '_' '_' '1']\n",
      " ['_' '_' '0' '1' '_']\n",
      " ['_' '1' '_' '_' '0']\n",
      " ['_' '_' '1' '0' '1']]\n"
     ]
    },
    {
     "name": "stdin",
     "output_type": "stream",
     "text": [
      "Place in ___ row: 3\n",
      "Place in ___ column: 0\n"
     ]
    },
    {
     "name": "stdout",
     "output_type": "stream",
     "text": [
      "Current status:\n",
      "[['1' '0' '1' '0' '0']\n",
      " ['0' '1' '_' '_' '1']\n",
      " ['_' '_' '0' '1' '_']\n",
      " ['0' '1' '_' '_' '0']\n",
      " ['_' '_' '1' '0' '1']]\n"
     ]
    },
    {
     "name": "stdin",
     "output_type": "stream",
     "text": [
      "Place in ___ row: 2\n",
      "Place in ___ column: 4\n"
     ]
    },
    {
     "name": "stdout",
     "output_type": "stream",
     "text": [
      "Current status:\n",
      "[['1' '0' '1' '0' '0']\n",
      " ['0' '1' '_' '_' '1']\n",
      " ['_' '_' '0' '1' '1']\n",
      " ['0' '1' '_' '_' '0']\n",
      " ['_' '_' '1' '0' '1']]\n"
     ]
    },
    {
     "name": "stdin",
     "output_type": "stream",
     "text": [
      "Place in ___ row: 2\n",
      "Place in ___ column: 1\n"
     ]
    },
    {
     "name": "stdout",
     "output_type": "stream",
     "text": [
      "Current status:\n",
      "[['1' '0' '1' '0' '0']\n",
      " ['0' '1' '_' '_' '1']\n",
      " ['_' '0' '0' '1' '1']\n",
      " ['0' '1' '_' '_' '0']\n",
      " ['_' '_' '1' '0' '1']]\n"
     ]
    },
    {
     "name": "stdin",
     "output_type": "stream",
     "text": [
      "Place in ___ row: 4\n",
      "Place in ___ column: 1\n"
     ]
    },
    {
     "name": "stdout",
     "output_type": "stream",
     "text": [
      "Current status:\n",
      "[['1' '0' '1' '0' '0']\n",
      " ['0' '1' '_' '_' '1']\n",
      " ['_' '0' '0' '1' '1']\n",
      " ['0' '1' '_' '_' '0']\n",
      " ['_' '1' '1' '0' '1']]\n"
     ]
    },
    {
     "name": "stdin",
     "output_type": "stream",
     "text": [
      "Place in ___ row: 4\n",
      "Place in ___ column: 0\n"
     ]
    },
    {
     "name": "stdout",
     "output_type": "stream",
     "text": [
      "Current status:\n",
      "[['1' '0' '1' '0' '0']\n",
      " ['0' '1' '_' '_' '1']\n",
      " ['_' '0' '0' '1' '1']\n",
      " ['0' '1' '_' '_' '0']\n",
      " ['0' '1' '1' '0' '1']]\n"
     ]
    },
    {
     "name": "stdin",
     "output_type": "stream",
     "text": [
      "Place in ___ row: 1\n",
      "Place in ___ column: 2\n"
     ]
    },
    {
     "name": "stdout",
     "output_type": "stream",
     "text": [
      "Current status:\n",
      "[['1' '0' '1' '0' '0']\n",
      " ['0' '1' '1' '_' '1']\n",
      " ['_' '0' '0' '1' '1']\n",
      " ['0' '1' '_' '_' '0']\n",
      " ['0' '1' '1' '0' '1']]\n"
     ]
    },
    {
     "name": "stdin",
     "output_type": "stream",
     "text": [
      "Place in ___ row: 1\n",
      "Place in ___ column: 3\n"
     ]
    },
    {
     "name": "stdout",
     "output_type": "stream",
     "text": [
      "Current status:\n",
      "[['1' '0' '1' '0' '0']\n",
      " ['0' '1' '1' '0' '1']\n",
      " ['_' '0' '0' '1' '1']\n",
      " ['0' '1' '_' '_' '0']\n",
      " ['0' '1' '1' '0' '1']]\n"
     ]
    },
    {
     "name": "stdin",
     "output_type": "stream",
     "text": [
      "Place in ___ row: 3\n",
      "Place in ___ column: 2\n"
     ]
    },
    {
     "name": "stdout",
     "output_type": "stream",
     "text": [
      "Current status:\n",
      "[['1' '0' '1' '0' '0']\n",
      " ['0' '1' '1' '0' '1']\n",
      " ['_' '0' '0' '1' '1']\n",
      " ['0' '1' '1' '_' '0']\n",
      " ['0' '1' '1' '0' '1']]\n"
     ]
    },
    {
     "name": "stdin",
     "output_type": "stream",
     "text": [
      "Place in ___ row: 3\n",
      "Place in ___ column: 3\n"
     ]
    },
    {
     "name": "stdout",
     "output_type": "stream",
     "text": [
      "Current status:\n",
      "[['1' '0' '1' '0' '0']\n",
      " ['0' '1' '1' '0' '1']\n",
      " ['_' '0' '0' '1' '1']\n",
      " ['0' '1' '1' '0' '0']\n",
      " ['0' '1' '1' '0' '1']]\n"
     ]
    },
    {
     "name": "stdin",
     "output_type": "stream",
     "text": [
      "Place in ___ row: 2\n",
      "Place in ___ column: 0\n"
     ]
    },
    {
     "name": "stdout",
     "output_type": "stream",
     "text": [
      "A wins\n",
      "Final matrix\n",
      "[['1' '0' '1' '0' '0']\n",
      " ['0' '1' '1' '0' '1']\n",
      " ['1' '0' '0' '1' '1']\n",
      " ['0' '1' '1' '0' '0']\n",
      " ['0' '1' '1' '0' '1']]\n"
     ]
    }
   ],
   "source": [
    "import numpy as np\n",
    "\n",
    "#B starts first\n",
    "\n",
    "def matrix1(matrix,x,s,totalstep,n):\n",
    "    while s <= totalstep:\n",
    "        print('Current status:')\n",
    "        print(matrix)\n",
    "        r = int(input('Place in ___ row:')) # r for row, c for column\n",
    "        c = int(input('Place in ___ column:'))\n",
    "        \n",
    "        if 0<=r<n and 0<=c<n and matrix[r,c] == '_':\n",
    "            matrix[r,c] = x\n",
    "            s = s+1\n",
    "            return s, matrix  \n",
    "        else:\n",
    "            print('Invalid input')\n",
    "\n",
    "def game():\n",
    "    n = int(input('Matrix NxN:'))\n",
    "    \n",
    "    s = 0  # s for step\n",
    "    totalstep = n**2\n",
    "    \n",
    "    matrix = np.full((n,n),'_',dtype=str)\n",
    "    \n",
    "    while s < totalstep: #game starts\n",
    "        s, matrix = matrix1(matrix,'1',s,totalstep,n)  # B's turn\n",
    "        if s >= totalstep:\n",
    "            break\n",
    "        s, matrix = matrix1(matrix,'0',s,totalstep,n)  # A's turn\n",
    "        \n",
    "    det1 = np.where(matrix == '_',0,matrix).astype(int) # to int\n",
    "    det = np.linalg.det(det1)\n",
    "    \n",
    "    if det == 0:\n",
    "        print('A wins')\n",
    "        print('Final matrix')\n",
    "        print(matrix)\n",
    "    else:\n",
    "        print('B wins')\n",
    "        print('Final matrix')\n",
    "        print(matrix)\n",
    "\n",
    "game()"
   ]
  },
  {
   "cell_type": "code",
   "execution_count": null,
   "id": "1ad87d43-b152-4f24-8f1e-f1e6072c9621",
   "metadata": {},
   "outputs": [],
   "source": []
  }
 ],
 "metadata": {
  "kernelspec": {
   "display_name": "Python 3 (ipykernel)",
   "language": "python",
   "name": "python3"
  },
  "language_info": {
   "codemirror_mode": {
    "name": "ipython",
    "version": 3
   },
   "file_extension": ".py",
   "mimetype": "text/x-python",
   "name": "python",
   "nbconvert_exporter": "python",
   "pygments_lexer": "ipython3",
   "version": "3.9.7"
  }
 },
 "nbformat": 4,
 "nbformat_minor": 5
}
